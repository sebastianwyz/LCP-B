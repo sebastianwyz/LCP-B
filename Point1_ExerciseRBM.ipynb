{
 "cells": [
  {
   "cell_type": "markdown",
   "id": "065a42c1-cc2c-4200-82f4-bce575f42c52",
   "metadata": {},
   "source": [
    "Hinton proposed for Restricted Boltzmann Machines to initialize visible biases following the formula:\n",
    "\n",
    "$$ b_i = log(p_i/(1-p_i)) $$\n",
    "\n",
    "Where there is a dependendance with the proportion of training samples in which each visible unit (i) is active, represented by $ p_i $.\n",
    "This ensures that right before learning, each unit has an initial probability closer to the real distribution in the dataset, this will allow to improve the trainig efficiency reducing the adjustments done by the hidden units to the initial values (early stages of learning).\n"
   ]
  },
  {
   "cell_type": "code",
   "execution_count": null,
   "id": "b02ddbe0-765b-4d44-a06e-3d2986a718cc",
   "metadata": {},
   "outputs": [],
   "source": []
  }
 ],
 "metadata": {
  "kernelspec": {
   "display_name": "Python [conda env:base] *",
   "language": "python",
   "name": "conda-base-py"
  },
  "language_info": {
   "codemirror_mode": {
    "name": "ipython",
    "version": 3
   },
   "file_extension": ".py",
   "mimetype": "text/x-python",
   "name": "python",
   "nbconvert_exporter": "python",
   "pygments_lexer": "ipython3",
   "version": "3.12.7"
  }
 },
 "nbformat": 4,
 "nbformat_minor": 5
}
